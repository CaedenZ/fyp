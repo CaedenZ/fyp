{
 "cells": [
  {
   "cell_type": "code",
   "execution_count": 9,
   "metadata": {},
   "outputs": [],
   "source": [
    "from PIL import Image, ImageDraw\n",
    "import sys"
   ]
  },
  {
   "cell_type": "code",
   "execution_count": 22,
   "metadata": {},
   "outputs": [],
   "source": [
    "im = Image.open(\"sample.png\")"
   ]
  },
  {
   "cell_type": "code",
   "execution_count": 23,
   "metadata": {},
   "outputs": [
    {
     "data": {
      "text/plain": [
       "(476, 299)"
      ]
     },
     "execution_count": 23,
     "metadata": {},
     "output_type": "execute_result"
    }
   ],
   "source": [
    "im.size"
   ]
  },
  {
   "cell_type": "code",
   "execution_count": 24,
   "metadata": {},
   "outputs": [],
   "source": [
    "draw = ImageDraw.Draw(im)"
   ]
  },
  {
   "cell_type": "code",
   "execution_count": 26,
   "metadata": {},
   "outputs": [],
   "source": [
    "draw.rectangle([(0, 0), (im.size[0]/2, im.size[1]/2)], fill=\"black\", outline=None, width=1)\n",
    "draw.rectangle([(im.size[0]/2, 0), (im.size[0], im.size[1]/2)], fill=\"black\", outline=None, width=1)\n",
    "draw.rectangle([(0, im.size[1]/2), (im.size[0]/2, im.size[1])], fill=\"black\", outline=None, width=1)\n",
    "draw.rectangle([(im.size[0]/2, im.size[1]/2), (im.size[0], im.size[1])], fill=\"black\", outline=None, width=1)"
   ]
  },
  {
   "cell_type": "code",
   "execution_count": 28,
   "metadata": {},
   "outputs": [],
   "source": [
    "im.show()"
   ]
  },
  {
   "cell_type": "code",
   "execution_count": 29,
   "metadata": {},
   "outputs": [],
   "source": [
    "filename = \"out\"\n",
    "im.save(filename + '.png', 'png')"
   ]
  }
 ],
 "metadata": {
  "kernelspec": {
   "display_name": "Python 3.10.5 64-bit",
   "language": "python",
   "name": "python3"
  },
  "language_info": {
   "codemirror_mode": {
    "name": "ipython",
    "version": 3
   },
   "file_extension": ".py",
   "mimetype": "text/x-python",
   "name": "python",
   "nbconvert_exporter": "python",
   "pygments_lexer": "ipython3",
   "version": "3.10.5"
  },
  "orig_nbformat": 4,
  "vscode": {
   "interpreter": {
    "hash": "7d9b88390f24278d9f1af355b0a8c78d2176f619702aa067504e13dc6b4da816"
   }
  }
 },
 "nbformat": 4,
 "nbformat_minor": 2
}
